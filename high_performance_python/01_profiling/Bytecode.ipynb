{
 "cells": [
  {
   "cell_type": "code",
   "execution_count": 5,
   "metadata": {},
   "outputs": [
    {
     "name": "stdout",
     "output_type": "stream",
     "text": [
      "/mnt/c/Users/mayan/Documents/hpp-book/high_performance_python/01_profiling/cpu_profiling\n"
     ]
    }
   ],
   "source": [
    "%cd cpu_profiling/"
   ]
  },
  {
   "cell_type": "code",
   "execution_count": null,
   "metadata": {},
   "outputs": [],
   "source": [
    "%%timeit\n",
    "\n",
    "# %run julia1.py"
   ]
  },
  {
   "cell_type": "code",
   "execution_count": null,
   "metadata": {},
   "outputs": [],
   "source": [
    "# %load julia1_nopil.py"
   ]
  },
  {
   "cell_type": "code",
   "execution_count": 17,
   "metadata": {},
   "outputs": [
    {
     "name": "stdout",
     "output_type": "stream",
     "text": [
      "Length of x: 1000\n",
      "Total elements: 1000000\n",
      "calculate_z_serial_purepython took 12.108450651168823 seconds\n"
     ]
    }
   ],
   "source": [
    "\"\"\"Julia set generator without optional PIL-based image drawing\"\"\"\n",
    "import time\n",
    "\n",
    "# area of complex space to investigate\n",
    "x1, x2, y1, y2 = -1.8, 1.8, -1.8, 1.8\n",
    "c_real, c_imag = -0.62772, -.42193\n",
    "\n",
    "\n",
    "def calculate_z_serial_purepython(maxiter, zs, cs):\n",
    "    \"\"\"Calculate output list using Julia update rule\"\"\"\n",
    "    output = [0] * len(zs)\n",
    "    for i in range(len(zs)):\n",
    "        n = 0\n",
    "        z = zs[i]\n",
    "        c = cs[i]\n",
    "        while abs(z) < 2 and n < maxiter:\n",
    "            z = z * z + c\n",
    "            n += 1\n",
    "        output[i] = n\n",
    "    return output\n",
    "\n",
    "\n",
    "def calc_pure_python(draw_output, desired_width, max_iterations):\n",
    "    \"\"\"Create a list of complex co-ordinates (zs) and complex parameters (cs), build Julia set and display\"\"\"\n",
    "    x_step = (float(x2 - x1) / float(desired_width))\n",
    "    y_step = (float(y1 - y2) / float(desired_width))\n",
    "    x = []\n",
    "    y = []\n",
    "    ycoord = y2\n",
    "    while ycoord > y1:\n",
    "        y.append(ycoord)\n",
    "        ycoord += y_step\n",
    "    xcoord = x1\n",
    "    while xcoord < x2:\n",
    "        x.append(xcoord)\n",
    "        xcoord += x_step\n",
    "    # build a list of co-ordinates and the initial condition for each cell.\n",
    "    # Note that our initial condition is a constant and could easily be removed,\n",
    "    # we use it to simulate a real-world scenario with several inputs to our\n",
    "    # function\n",
    "    zs = []\n",
    "    cs = []\n",
    "    for ycoord in y:\n",
    "        for xcoord in x:\n",
    "            zs.append(complex(xcoord, ycoord))\n",
    "            cs.append(complex(c_real, c_imag))\n",
    "\n",
    "    print(\"Length of x:\", len(x))\n",
    "    print(\"Total elements:\", len(zs))\n",
    "    start_time = time.time()\n",
    "    output = calculate_z_serial_purepython(max_iterations, zs, cs)\n",
    "    end_time = time.time()\n",
    "    secs = end_time - start_time\n",
    "    print(calculate_z_serial_purepython.__name__ + \" took\", secs, \"seconds\")\n",
    "\n",
    "    # this sum is expected for 1000^2 grid with 300 iterations\n",
    "    assert sum(output) == 33219980\n",
    "\n",
    "\n",
    "if __name__ == \"__main__\":\n",
    "    # Calculate the Julia set using a pure Python solution with\n",
    "    # reasonable defaults for a laptop\n",
    "    # set draw_output to True to use PIL to draw an image\n",
    "    calc_pure_python(draw_output=False, desired_width=1000, max_iterations=300)\n"
   ]
  },
  {
   "cell_type": "code",
   "execution_count": 13,
   "metadata": {},
   "outputs": [],
   "source": [
    "import dis\n",
    "import julia1_nopil"
   ]
  },
  {
   "cell_type": "code",
   "execution_count": 14,
   "metadata": {},
   "outputs": [
    {
     "name": "stdout",
     "output_type": "stream",
     "text": [
      " 11           0 LOAD_CONST               1 (0)\n",
      "              2 BUILD_LIST               1\n",
      "              4 LOAD_GLOBAL              0 (len)\n",
      "              6 LOAD_FAST                1 (zs)\n",
      "              8 CALL_FUNCTION            1\n",
      "             10 BINARY_MULTIPLY\n",
      "             12 STORE_FAST               3 (output)\n",
      "\n",
      " 12          14 LOAD_GLOBAL              1 (range)\n",
      "             16 LOAD_GLOBAL              0 (len)\n",
      "             18 LOAD_FAST                1 (zs)\n",
      "             20 CALL_FUNCTION            1\n",
      "             22 CALL_FUNCTION            1\n",
      "             24 GET_ITER\n",
      "        >>   26 FOR_ITER                74 (to 102)\n",
      "             28 STORE_FAST               4 (i)\n",
      "\n",
      " 13          30 LOAD_CONST               1 (0)\n",
      "             32 STORE_FAST               5 (n)\n",
      "\n",
      " 14          34 LOAD_FAST                1 (zs)\n",
      "             36 LOAD_FAST                4 (i)\n",
      "             38 BINARY_SUBSCR\n",
      "             40 STORE_FAST               6 (z)\n",
      "\n",
      " 15          42 LOAD_FAST                2 (cs)\n",
      "             44 LOAD_FAST                4 (i)\n",
      "             46 BINARY_SUBSCR\n",
      "             48 STORE_FAST               7 (c)\n",
      "\n",
      " 16     >>   50 LOAD_GLOBAL              2 (abs)\n",
      "             52 LOAD_FAST                6 (z)\n",
      "             54 CALL_FUNCTION            1\n",
      "             56 LOAD_CONST               2 (2)\n",
      "             58 COMPARE_OP               0 (<)\n",
      "             60 POP_JUMP_IF_FALSE       92\n",
      "             62 LOAD_FAST                5 (n)\n",
      "             64 LOAD_FAST                0 (maxiter)\n",
      "             66 COMPARE_OP               0 (<)\n",
      "             68 POP_JUMP_IF_FALSE       92\n",
      "\n",
      " 17          70 LOAD_FAST                6 (z)\n",
      "             72 LOAD_FAST                6 (z)\n",
      "             74 BINARY_MULTIPLY\n",
      "             76 LOAD_FAST                7 (c)\n",
      "             78 BINARY_ADD\n",
      "             80 STORE_FAST               6 (z)\n",
      "\n",
      " 18          82 LOAD_FAST                5 (n)\n",
      "             84 LOAD_CONST               3 (1)\n",
      "             86 INPLACE_ADD\n",
      "             88 STORE_FAST               5 (n)\n",
      "             90 JUMP_ABSOLUTE           50\n",
      "\n",
      " 19     >>   92 LOAD_FAST                5 (n)\n",
      "             94 LOAD_FAST                3 (output)\n",
      "             96 LOAD_FAST                4 (i)\n",
      "             98 STORE_SUBSCR\n",
      "            100 JUMP_ABSOLUTE           26\n",
      "\n",
      " 20     >>  102 LOAD_FAST                3 (output)\n",
      "            104 RETURN_VALUE\n"
     ]
    }
   ],
   "source": [
    "dis.dis(julia1_nopil.calculate_z_serial_purepython)"
   ]
  },
  {
   "cell_type": "code",
   "execution_count": 8,
   "metadata": {},
   "outputs": [],
   "source": [
    "def fn_expressive(upper=1_000_000):\n",
    "    total = 0\n",
    "    for n in range(upper):\n",
    "        total += n\n",
    "    return total\n",
    "\n",
    "def fn_terse(upper=1_000_000):\n",
    "    return sum(range(upper))\n",
    "\n",
    "assert fn_expressive() == fn_terse(), \"Expect identical results from both functions\""
   ]
  },
  {
   "cell_type": "code",
   "execution_count": 9,
   "metadata": {},
   "outputs": [
    {
     "name": "stdout",
     "output_type": "stream",
     "text": [
      "  2           0 LOAD_CONST               1 (0)\n",
      "              2 STORE_FAST               1 (total)\n",
      "\n",
      "  3           4 LOAD_GLOBAL              0 (range)\n",
      "              6 LOAD_FAST                0 (upper)\n",
      "              8 CALL_FUNCTION            1\n",
      "             10 GET_ITER\n",
      "        >>   12 FOR_ITER                12 (to 26)\n",
      "             14 STORE_FAST               2 (n)\n",
      "\n",
      "  4          16 LOAD_FAST                1 (total)\n",
      "             18 LOAD_FAST                2 (n)\n",
      "             20 INPLACE_ADD\n",
      "             22 STORE_FAST               1 (total)\n",
      "             24 JUMP_ABSOLUTE           12\n",
      "\n",
      "  5     >>   26 LOAD_FAST                1 (total)\n",
      "             28 RETURN_VALUE\n"
     ]
    }
   ],
   "source": [
    "dis.dis(fn_expressive)"
   ]
  },
  {
   "cell_type": "code",
   "execution_count": 10,
   "metadata": {},
   "outputs": [
    {
     "name": "stdout",
     "output_type": "stream",
     "text": [
      "  8           0 LOAD_GLOBAL              0 (sum)\n",
      "              2 LOAD_GLOBAL              1 (range)\n",
      "              4 LOAD_FAST                0 (upper)\n",
      "              6 CALL_FUNCTION            1\n",
      "              8 CALL_FUNCTION            1\n",
      "             10 RETURN_VALUE\n"
     ]
    }
   ],
   "source": [
    "dis.dis(fn_terse)"
   ]
  },
  {
   "cell_type": "code",
   "execution_count": null,
   "metadata": {},
   "outputs": [],
   "source": []
  }
 ],
 "metadata": {
  "kernelspec": {
   "display_name": "Python 3",
   "language": "python",
   "name": "python3"
  },
  "language_info": {
   "codemirror_mode": {
    "name": "ipython",
    "version": 3
   },
   "file_extension": ".py",
   "mimetype": "text/x-python",
   "name": "python",
   "nbconvert_exporter": "python",
   "pygments_lexer": "ipython3",
   "version": "3.8.5"
  }
 },
 "nbformat": 4,
 "nbformat_minor": 4
}
