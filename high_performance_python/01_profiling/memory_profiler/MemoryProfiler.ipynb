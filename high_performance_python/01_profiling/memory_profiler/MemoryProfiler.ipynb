{
 "cells": [
  {
   "cell_type": "code",
   "execution_count": 1,
   "metadata": {},
   "outputs": [
    {
     "name": "stdout",
     "output_type": "stream",
     "text": [
      "Requirement already satisfied: memory_profiler in /home/cataluna84/anaconda3/envs/hpp/lib/python3.8/site-packages (0.57.0)\n",
      "Requirement already satisfied: psutil in /home/cataluna84/anaconda3/envs/hpp/lib/python3.8/site-packages (from memory_profiler) (5.7.2)\n"
     ]
    }
   ],
   "source": [
    "!pip install memory_profiler"
   ]
  },
  {
   "cell_type": "code",
   "execution_count": 2,
   "metadata": {},
   "outputs": [
    {
     "name": "stdout",
     "output_type": "stream",
     "text": [
      "Requirement already satisfied: psutil in /home/cataluna84/anaconda3/envs/hpp/lib/python3.8/site-packages (5.7.2)\n"
     ]
    }
   ],
   "source": [
    "!pip install psutil"
   ]
  },
  {
   "cell_type": "code",
   "execution_count": 3,
   "metadata": {},
   "outputs": [],
   "source": [
    "%load_ext memory_profiler"
   ]
  },
  {
   "cell_type": "code",
   "execution_count": null,
   "metadata": {},
   "outputs": [],
   "source": []
  },
  {
   "cell_type": "code",
   "execution_count": 4,
   "metadata": {},
   "outputs": [
    {
     "name": "stdout",
     "output_type": "stream",
     "text": [
      "Length of x: 1000\n",
      "Total elements: 1000000\n",
      "calculate_z_serial_purepython took 9.914139747619629 seconds\n",
      "Length of x: 100\n",
      "Total elements: 10000\n",
      "calculate_z_serial_purepython took 0.34215497970581055 seconds\n",
      "\n"
     ]
    },
    {
     "data": {
      "text/plain": [
       "Filename: /mnt/c/Users/mayan/Documents/hpp-book/high_performance_python/01_profiling/memory_profiler/julia1_memoryprofiler.py\n",
       "\n",
       "Line #    Mem usage    Increment   Line Contents\n",
       "================================================\n",
       "    25     50.6 MiB     50.6 MiB   def calc_pure_python(draw_output, desired_width, max_iterations):\n",
       "    26                                 \"\"\"Create a list of complex co-ordinates (zs) and complex parameters (cs), build Julia set and display\"\"\"\n",
       "    27     50.6 MiB      0.0 MiB       x_step = (float(x2 - x1) / float(desired_width))\n",
       "    28     50.6 MiB      0.0 MiB       y_step = (float(y1 - y2) / float(desired_width))\n",
       "    29     50.6 MiB      0.0 MiB       x = []\n",
       "    30     50.6 MiB      0.0 MiB       y = []\n",
       "    31     50.6 MiB      0.0 MiB       ycoord = y2\n",
       "    32     50.6 MiB      0.0 MiB       while ycoord > y1:\n",
       "    33     50.6 MiB      0.0 MiB           y.append(ycoord)\n",
       "    34     50.6 MiB      0.0 MiB           ycoord += y_step\n",
       "    35     50.6 MiB      0.0 MiB       xcoord = x1\n",
       "    36     50.6 MiB      0.0 MiB       while xcoord < x2:\n",
       "    37     50.6 MiB      0.0 MiB           x.append(xcoord)\n",
       "    38     50.6 MiB      0.0 MiB           xcoord += x_step\n",
       "    39                                 # set width and height to the generated pixel counts, rather than the\n",
       "    40                                 # pre-rounding desired width and height\n",
       "    41                                 # build a list of co-ordinates and the initial condition for each cell.\n",
       "    42                                 # Note that our initial condition is a constant and could easily be removed,\n",
       "    43                                 # we use it to simulate a real-world scenario with several inputs to our\n",
       "    44                                 # function\n",
       "    45     50.6 MiB      0.0 MiB       zs = []\n",
       "    46     50.6 MiB      0.0 MiB       cs = []\n",
       "    47     50.9 MiB      0.0 MiB       for ycoord in y:\n",
       "    48     50.9 MiB      0.0 MiB           for xcoord in x:\n",
       "    49     50.9 MiB      0.0 MiB               zs.append(complex(xcoord, ycoord))\n",
       "    50     50.9 MiB      0.3 MiB               cs.append(complex(c_real, c_imag))\n",
       "    51                             \n",
       "    52     50.9 MiB      0.0 MiB       print(\"Length of x:\", len(x))\n",
       "    53     50.9 MiB      0.0 MiB       print(\"Total elements:\", len(zs))\n",
       "    54     50.9 MiB      0.0 MiB       start_time = time.time()\n",
       "    55     50.9 MiB      0.0 MiB       output = calculate_z_serial_purepython(max_iterations, zs, cs)\n",
       "    56     50.9 MiB      0.0 MiB       end_time = time.time()\n",
       "    57     50.9 MiB      0.0 MiB       secs = end_time - start_time\n",
       "    58     50.9 MiB      0.0 MiB       print(calculate_z_serial_purepython.__name__ + \" took\", secs, \"seconds\")"
      ]
     },
     "metadata": {},
     "output_type": "display_data"
    }
   ],
   "source": [
    "from julia1_memoryprofiler import calc_pure_python\n",
    "%mprun -f calc_pure_python calc_pure_python(draw_output=False, desired_width=100, max_iterations=30)"
   ]
  },
  {
   "cell_type": "code",
   "execution_count": 5,
   "metadata": {},
   "outputs": [
    {
     "name": "stdout",
     "output_type": "stream",
     "text": [
      "Length of x: 100\n",
      "Total elements: 10000\n",
      "calculate_z_serial_purepython took 18.114959239959717 seconds\n",
      "\n"
     ]
    },
    {
     "data": {
      "text/plain": [
       "Filename: /mnt/c/Users/mayan/Documents/hpp-book/high_performance_python/01_profiling/memory_profiler/julia1_memoryprofiler.py\n",
       "\n",
       "Line #    Mem usage    Increment   Line Contents\n",
       "================================================\n",
       "    10     51.1 MiB     51.1 MiB   def calculate_z_serial_purepython(maxiter, zs, cs):\n",
       "    11                                 \"\"\"Calculate output list using Julia update rule\"\"\"\n",
       "    12     51.1 MiB      0.0 MiB       output = [0] * len(zs)\n",
       "    13     51.1 MiB      0.0 MiB       for i in range(len(zs)):\n",
       "    14     51.1 MiB      0.0 MiB           n = 0\n",
       "    15     51.1 MiB      0.0 MiB           z = zs[i]\n",
       "    16     51.1 MiB      0.0 MiB           c = cs[i]\n",
       "    17     51.1 MiB      0.0 MiB           while n < maxiter and abs(z) < 2:\n",
       "    18     51.1 MiB      0.0 MiB               z = z * z + c\n",
       "    19     51.1 MiB      0.0 MiB               n += 1\n",
       "    20     51.1 MiB      0.0 MiB           output[i] = n\n",
       "    21     51.1 MiB      0.0 MiB       return output"
      ]
     },
     "metadata": {},
     "output_type": "display_data"
    }
   ],
   "source": [
    "from julia1_memoryprofiler import calc_pure_python, calculate_z_serial_purepython\n",
    "%mprun -f calculate_z_serial_purepython calc_pure_python(draw_output=False, desired_width=100, max_iterations=30)"
   ]
  },
  {
   "cell_type": "code",
   "execution_count": 6,
   "metadata": {},
   "outputs": [
    {
     "name": "stdout",
     "output_type": "stream",
     "text": [
      "Length of x: 100\n",
      "Total elements: 10000\n",
      "calculate_z_serial_purepython took 17.885668754577637 seconds\n",
      "\n"
     ]
    },
    {
     "data": {
      "text/plain": [
       "Filename: /mnt/c/Users/mayan/Documents/hpp-book/high_performance_python/01_profiling/memory_profiler/julia1_memoryprofiler.py\n",
       "\n",
       "Line #    Mem usage    Increment   Line Contents\n",
       "================================================\n",
       "    25     51.1 MiB     51.1 MiB   def calc_pure_python(draw_output, desired_width, max_iterations):\n",
       "    26                                 \"\"\"Create a list of complex co-ordinates (zs) and complex parameters (cs), build Julia set and display\"\"\"\n",
       "    27     51.1 MiB      0.0 MiB       x_step = (float(x2 - x1) / float(desired_width))\n",
       "    28     51.1 MiB      0.0 MiB       y_step = (float(y1 - y2) / float(desired_width))\n",
       "    29     51.1 MiB      0.0 MiB       x = []\n",
       "    30     51.1 MiB      0.0 MiB       y = []\n",
       "    31     51.1 MiB      0.0 MiB       ycoord = y2\n",
       "    32     51.1 MiB      0.0 MiB       while ycoord > y1:\n",
       "    33     51.1 MiB      0.0 MiB           y.append(ycoord)\n",
       "    34     51.1 MiB      0.0 MiB           ycoord += y_step\n",
       "    35     51.1 MiB      0.0 MiB       xcoord = x1\n",
       "    36     51.1 MiB      0.0 MiB       while xcoord < x2:\n",
       "    37     51.1 MiB      0.0 MiB           x.append(xcoord)\n",
       "    38     51.1 MiB      0.0 MiB           xcoord += x_step\n",
       "    39                                 # set width and height to the generated pixel counts, rather than the\n",
       "    40                                 # pre-rounding desired width and height\n",
       "    41                                 # build a list of co-ordinates and the initial condition for each cell.\n",
       "    42                                 # Note that our initial condition is a constant and could easily be removed,\n",
       "    43                                 # we use it to simulate a real-world scenario with several inputs to our\n",
       "    44                                 # function\n",
       "    45     51.1 MiB      0.0 MiB       zs = []\n",
       "    46     51.1 MiB      0.0 MiB       cs = []\n",
       "    47     51.2 MiB      0.0 MiB       for ycoord in y:\n",
       "    48     51.2 MiB      0.0 MiB           for xcoord in x:\n",
       "    49     51.2 MiB      0.0 MiB               zs.append(complex(xcoord, ycoord))\n",
       "    50     51.2 MiB      0.0 MiB               cs.append(complex(c_real, c_imag))\n",
       "    51                             \n",
       "    52     51.2 MiB      0.0 MiB       print(\"Length of x:\", len(x))\n",
       "    53     51.2 MiB      0.0 MiB       print(\"Total elements:\", len(zs))\n",
       "    54     51.2 MiB      0.0 MiB       start_time = time.time()\n",
       "    55     51.2 MiB     51.2 MiB       output = calculate_z_serial_purepython(max_iterations, zs, cs)\n",
       "    56     51.2 MiB      0.0 MiB       end_time = time.time()\n",
       "    57     51.2 MiB      0.0 MiB       secs = end_time - start_time\n",
       "    58     51.2 MiB      0.0 MiB       print(calculate_z_serial_purepython.__name__ + \" took\", secs, \"seconds\")\n",
       "\n",
       "\n",
       "Filename: /mnt/c/Users/mayan/Documents/hpp-book/high_performance_python/01_profiling/memory_profiler/julia1_memoryprofiler.py\n",
       "\n",
       "Line #    Mem usage    Increment   Line Contents\n",
       "================================================\n",
       "    10     51.2 MiB     51.2 MiB   def calculate_z_serial_purepython(maxiter, zs, cs):\n",
       "    11                                 \"\"\"Calculate output list using Julia update rule\"\"\"\n",
       "    12     51.2 MiB      0.0 MiB       output = [0] * len(zs)\n",
       "    13     51.2 MiB      0.0 MiB       for i in range(len(zs)):\n",
       "    14     51.2 MiB      0.0 MiB           n = 0\n",
       "    15     51.2 MiB      0.0 MiB           z = zs[i]\n",
       "    16     51.2 MiB      0.0 MiB           c = cs[i]\n",
       "    17     51.2 MiB      0.0 MiB           while n < maxiter and abs(z) < 2:\n",
       "    18     51.2 MiB      0.0 MiB               z = z * z + c\n",
       "    19     51.2 MiB      0.0 MiB               n += 1\n",
       "    20     51.2 MiB      0.0 MiB           output[i] = n\n",
       "    21     51.2 MiB      0.0 MiB       return output"
      ]
     },
     "metadata": {},
     "output_type": "display_data"
    }
   ],
   "source": [
    "from julia1_memoryprofiler import calc_pure_python, calculate_z_serial_purepython\n",
    "%mprun -f calc_pure_python -f calculate_z_serial_purepython calc_pure_python(draw_output=False, desired_width=100, max_iterations=30)"
   ]
  },
  {
   "cell_type": "code",
   "execution_count": 12,
   "metadata": {},
   "outputs": [
    {
     "name": "stdout",
     "output_type": "stream",
     "text": [
      "Length of x: 100\n",
      "Total elements: 10000\n",
      "calculate_z_serial_purepython took 17.473377466201782 seconds\n",
      "Filename: julia1_memoryprofiler.py\n",
      "\n",
      "Line #    Mem usage    Increment   Line Contents\n",
      "================================================\n",
      "     9   39.039 MiB   39.039 MiB   @profile\n",
      "    10                             def calculate_z_serial_purepython(maxiter, zs, cs):\n",
      "    11                                 \"\"\"Calculate output list using Julia update rule\"\"\"\n",
      "    12   39.039 MiB    0.000 MiB       output = [0] * len(zs)\n",
      "    13   39.039 MiB    0.000 MiB       for i in range(len(zs)):\n",
      "    14   39.039 MiB    0.000 MiB           n = 0\n",
      "    15   39.039 MiB    0.000 MiB           z = zs[i]\n",
      "    16   39.039 MiB    0.000 MiB           c = cs[i]\n",
      "    17   39.039 MiB    0.000 MiB           while n < maxiter and abs(z) < 2:\n",
      "    18   39.039 MiB    0.000 MiB               z = z * z + c\n",
      "    19   39.039 MiB    0.000 MiB               n += 1\n",
      "    20   39.039 MiB    0.000 MiB           output[i] = n\n",
      "    21   39.039 MiB    0.000 MiB       return output\n",
      "\n",
      "\n",
      "Filename: julia1_memoryprofiler.py\n",
      "\n",
      "Line #    Mem usage    Increment   Line Contents\n",
      "================================================\n",
      "    24   38.137 MiB   38.137 MiB   @profile\n",
      "    25                             def calc_pure_python(draw_output, desired_width, max_iterations):\n",
      "    26                                 \"\"\"Create a list of complex co-ordinates (zs) and complex parameters (cs), build Julia set and display\"\"\"\n",
      "    27   38.137 MiB    0.000 MiB       x_step = (float(x2 - x1) / float(desired_width))\n",
      "    28   38.137 MiB    0.000 MiB       y_step = (float(y1 - y2) / float(desired_width))\n",
      "    29   38.137 MiB    0.000 MiB       x = []\n",
      "    30   38.137 MiB    0.000 MiB       y = []\n",
      "    31   38.137 MiB    0.000 MiB       ycoord = y2\n",
      "    32   38.137 MiB    0.000 MiB       while ycoord > y1:\n",
      "    33   38.137 MiB    0.000 MiB           y.append(ycoord)\n",
      "    34   38.137 MiB    0.000 MiB           ycoord += y_step\n",
      "    35   38.137 MiB    0.000 MiB       xcoord = x1\n",
      "    36   38.137 MiB    0.000 MiB       while xcoord < x2:\n",
      "    37   38.137 MiB    0.000 MiB           x.append(xcoord)\n",
      "    38   38.137 MiB    0.000 MiB           xcoord += x_step\n",
      "    39                                 # set width and height to the generated pixel counts, rather than the\n",
      "    40                                 # pre-rounding desired width and height\n",
      "    41                                 # build a list of co-ordinates and the initial condition for each cell.\n",
      "    42                                 # Note that our initial condition is a constant and could easily be removed,\n",
      "    43                                 # we use it to simulate a real-world scenario with several inputs to our\n",
      "    44                                 # function\n",
      "    45   38.137 MiB    0.000 MiB       zs = []\n",
      "    46   38.137 MiB    0.000 MiB       cs = []\n",
      "    47   39.039 MiB    0.000 MiB       for ycoord in y:\n",
      "    48   39.039 MiB    0.000 MiB           for xcoord in x:\n",
      "    49   39.039 MiB    0.000 MiB               zs.append(complex(xcoord, ycoord))\n",
      "    50   39.039 MiB    0.254 MiB               cs.append(complex(c_real, c_imag))\n",
      "    51                             \n",
      "    52   39.039 MiB    0.000 MiB       print(\"Length of x:\", len(x))\n",
      "    53   39.039 MiB    0.000 MiB       print(\"Total elements:\", len(zs))\n",
      "    54   39.039 MiB    0.000 MiB       start_time = time.time()\n",
      "    55   39.039 MiB   39.039 MiB       output = calculate_z_serial_purepython(max_iterations, zs, cs)\n",
      "    56   39.039 MiB    0.000 MiB       end_time = time.time()\n",
      "    57   39.039 MiB    0.000 MiB       secs = end_time - start_time\n",
      "    58   39.039 MiB    0.000 MiB       print(calculate_z_serial_purepython.__name__ + \" took\", secs, \"seconds\")\n",
      "\n",
      "\n"
     ]
    }
   ],
   "source": [
    "!python -m memory_profiler julia1_memoryprofiler.py"
   ]
  },
  {
   "cell_type": "code",
   "execution_count": 19,
   "metadata": {},
   "outputs": [
    {
     "name": "stdout",
     "output_type": "stream",
     "text": [
      "mprof: Sampling memory every 0.1s\n",
      "running as a Python program...\n",
      "Length of x: 1000\n",
      "Total elements: 1000000\n",
      "calculate_z_serial_purepython took 9.14767050743103 seconds\n"
     ]
    }
   ],
   "source": [
    "!mprof run julia1_memoryprofiler.py"
   ]
  },
  {
   "cell_type": "code",
   "execution_count": 16,
   "metadata": {},
   "outputs": [
    {
     "name": "stdout",
     "output_type": "stream",
     "text": [
      "usage: mprof plot [options] [file.dat]\n",
      "\n",
      "Plots using matplotlib the data file `file.dat` generated using `mprof run`.\n",
      "If no .dat file is given, it will take the most recent such file in the\n",
      "current directory.\n",
      "\n",
      "positional arguments:\n",
      "  profiles              profiles made by mprof run\n",
      "\n",
      "optional arguments:\n",
      "  -h, --help            show this help message and exit\n",
      "  --version             show program's version number and exit\n",
      "  --title TITLE, -t TITLE\n",
      "                        String shown as plot title\n",
      "  --no-function-ts, -n  Do not display function timestamps on plot.\n",
      "  --output OUTPUT, -o OUTPUT\n",
      "                        Save plot to file instead of displaying it.\n",
      "  --window XLIM, -w XLIM\n",
      "                        Plot a time-subset of the data. E.g. to plot between 0\n",
      "                        and 20.5 seconds: --window 0,20.5\n",
      "  --flame, -f           Plot the timestamps as a flame-graph instead of the\n",
      "                        default brackets\n",
      "  --backend BACKEND     Specify the Matplotlib backend to use\n"
     ]
    }
   ],
   "source": [
    "!mprof plot --help"
   ]
  },
  {
   "cell_type": "code",
   "execution_count": 20,
   "metadata": {},
   "outputs": [
    {
     "name": "stdout",
     "output_type": "stream",
     "text": [
      "Using last profile data.\n"
     ]
    }
   ],
   "source": [
    "!mprof plot -o julia_memoryprofiler2.png"
   ]
  },
  {
   "cell_type": "code",
   "execution_count": null,
   "metadata": {},
   "outputs": [],
   "source": []
  },
  {
   "cell_type": "code",
   "execution_count": null,
   "metadata": {},
   "outputs": [],
   "source": []
  }
 ],
 "metadata": {
  "kernelspec": {
   "display_name": "Python 3",
   "language": "python",
   "name": "python3"
  },
  "language_info": {
   "codemirror_mode": {
    "name": "ipython",
    "version": 3
   },
   "file_extension": ".py",
   "mimetype": "text/x-python",
   "name": "python",
   "nbconvert_exporter": "python",
   "pygments_lexer": "ipython3",
   "version": "3.8.5"
  }
 },
 "nbformat": 4,
 "nbformat_minor": 4
}
