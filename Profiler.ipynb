{
 "cells": [
  {
   "cell_type": "markdown",
   "metadata": {},
   "source": [
    "<h1> profile, cProfile, and pstats – Performance analysis of Python programs </h1>"
   ]
  },
  {
   "cell_type": "markdown",
   "metadata": {},
   "source": [
    "Credits: https://pymotw.com/2/profile/"
   ]
  },
  {
   "cell_type": "code",
   "execution_count": 1,
   "metadata": {},
   "outputs": [],
   "source": [
    "import profile"
   ]
  },
  {
   "cell_type": "code",
   "execution_count": 2,
   "metadata": {},
   "outputs": [],
   "source": [
    "def method():\n",
    "    for i in range(1, 10):\n",
    "        print(i)\n",
    "\n",
    "def fib(n):\n",
    "    if n == 0:\n",
    "        return 0\n",
    "    elif n == 1:\n",
    "        return 1\n",
    "    else:\n",
    "        return (fib(n-1) + fib(n-2))\n",
    "\n",
    "def fib_seq(n):\n",
    "    seq = []\n",
    "    if n>0:\n",
    "        seq.extend(fib_seq(n-1))\n",
    "    seq.append(fib(n))\n",
    "    return seq\n",
    "\n"
   ]
  },
  {
   "cell_type": "code",
   "execution_count": 3,
   "metadata": {},
   "outputs": [
    {
     "name": "stdout",
     "output_type": "stream",
     "text": [
      "         57357 function calls (67 primitive calls) in 0.156 seconds\n",
      "\n",
      "   Ordered by: standard name\n",
      "\n",
      "   ncalls  tottime  percall  cumtime  percall filename:lineno(function)\n",
      "       21    0.000    0.000    0.000    0.000 :0(append)\n",
      "        1    0.000    0.000    0.156    0.156 :0(exec)\n",
      "       20    0.000    0.000    0.000    0.000 :0(extend)\n",
      "        1    0.000    0.000    0.000    0.000 :0(setprofile)\n",
      "     21/1    0.000    0.000    0.156    0.156 <ipython-input-2-7480af2c8555>:13(fib_seq)\n",
      " 57291/21    0.156    0.000    0.156    0.007 <ipython-input-2-7480af2c8555>:5(fib)\n",
      "        1    0.000    0.000    0.156    0.156 <string>:1(<module>)\n",
      "        1    0.000    0.000    0.156    0.156 profile:0(fib_seq(20))\n",
      "        0    0.000             0.000          profile:0(profiler)\n",
      "\n",
      "\n"
     ]
    }
   ],
   "source": [
    "profile.run('fib_seq(20)')"
   ]
  },
  {
   "cell_type": "code",
   "execution_count": 4,
   "metadata": {},
   "outputs": [
    {
     "name": "stdout",
     "output_type": "stream",
     "text": [
      "[0, 1, 1, 2, 3, 5, 8, 13, 21, 34, 55, 89, 144, 233, 377, 610, 987, 1597, 2584, 4181, 6765]\n",
      "         57392 function calls (102 primitive calls) in 0.109 seconds\n",
      "\n",
      "   Ordered by: standard name\n",
      "\n",
      "   ncalls  tottime  percall  cumtime  percall filename:lineno(function)\n",
      "        3    0.000    0.000    0.000    0.000 :0(acquire)\n",
      "       24    0.000    0.000    0.000    0.000 :0(append)\n",
      "        1    0.000    0.000    0.109    0.109 :0(exec)\n",
      "       20    0.000    0.000    0.000    0.000 :0(extend)\n",
      "        2    0.000    0.000    0.000    0.000 :0(getpid)\n",
      "        2    0.000    0.000    0.000    0.000 :0(isinstance)\n",
      "        1    0.000    0.000    0.000    0.000 :0(print)\n",
      "        1    0.000    0.000    0.000    0.000 :0(setprofile)\n",
      "     21/1    0.000    0.000    0.109    0.109 <ipython-input-2-7480af2c8555>:13(fib_seq)\n",
      " 57291/21    0.109    0.000    0.109    0.005 <ipython-input-2-7480af2c8555>:5(fib)\n",
      "        1    0.000    0.000    0.109    0.109 <string>:1(<module>)\n",
      "        3    0.000    0.000    0.000    0.000 iostream.py:197(schedule)\n",
      "        2    0.000    0.000    0.000    0.000 iostream.py:310(_is_master_process)\n",
      "        2    0.000    0.000    0.000    0.000 iostream.py:323(_schedule_flush)\n",
      "        2    0.000    0.000    0.000    0.000 iostream.py:386(write)\n",
      "        3    0.000    0.000    0.000    0.000 iostream.py:93(_event_pipe)\n",
      "        1    0.000    0.000    0.109    0.109 profile:0(print(fib_seq(20)))\n",
      "        0    0.000             0.000          profile:0(profiler)\n",
      "        3    0.000    0.000    0.000    0.000 socket.py:357(send)\n",
      "        3    0.000    0.000    0.000    0.000 threading.py:1017(_wait_for_tstate_lock)\n",
      "        3    0.000    0.000    0.000    0.000 threading.py:1071(is_alive)\n",
      "        3    0.000    0.000    0.000    0.000 threading.py:513(is_set)\n",
      "\n",
      "\n"
     ]
    }
   ],
   "source": [
    "profile.run('print(fib_seq(20))')"
   ]
  },
  {
   "cell_type": "raw",
   "metadata": {},
   "source": [
    "Adding decorators in the mix"
   ]
  },
  {
   "cell_type": "code",
   "execution_count": 5,
   "metadata": {},
   "outputs": [],
   "source": [
    "class decorator:\n",
    "    def __init__(self, function):\n",
    "        self.decorator = {}\n",
    "        self.function = function\n",
    "    \n",
    "    def __call__(self, *args):\n",
    "        try:\n",
    "            return self.decorator[args]\n",
    "        except KeyError:\n",
    "            self.decorator[args] = self.function(*args)\n",
    "            return self.decorator[args]\n",
    "        \n",
    "@decorator\n",
    "def fib(n):\n",
    "    if n == 0:\n",
    "        return 0\n",
    "    elif n == 1:\n",
    "        return 1\n",
    "    else:\n",
    "        return (fib(n-1) + fib(n-2))\n",
    "\n",
    "def fib_seq(n):\n",
    "    seq = []\n",
    "    if n>0:\n",
    "        seq.extend(fib_seq(n-1))\n",
    "    seq.append(fib(n))\n",
    "    return seq"
   ]
  },
  {
   "cell_type": "code",
   "execution_count": 6,
   "metadata": {},
   "outputs": [
    {
     "name": "stdout",
     "output_type": "stream",
     "text": [
      "[0, 1, 1, 2, 3, 5, 8, 13, 21, 34, 55, 89, 144, 233, 377, 610, 987, 1597, 2584, 4181, 6765]\n",
      "         181 function calls (123 primitive calls) in 0.000 seconds\n",
      "\n",
      "   Ordered by: standard name\n",
      "\n",
      "   ncalls  tottime  percall  cumtime  percall filename:lineno(function)\n",
      "        3    0.000    0.000    0.000    0.000 :0(acquire)\n",
      "       24    0.000    0.000    0.000    0.000 :0(append)\n",
      "        1    0.000    0.000    0.000    0.000 :0(exec)\n",
      "       20    0.000    0.000    0.000    0.000 :0(extend)\n",
      "        2    0.000    0.000    0.000    0.000 :0(getpid)\n",
      "        2    0.000    0.000    0.000    0.000 :0(isinstance)\n",
      "        1    0.000    0.000    0.000    0.000 :0(print)\n",
      "        1    0.000    0.000    0.000    0.000 :0(setprofile)\n",
      "       21    0.000    0.000    0.000    0.000 <ipython-input-5-d85ceb1fe453>:13(fib)\n",
      "     21/1    0.000    0.000    0.000    0.000 <ipython-input-5-d85ceb1fe453>:22(fib_seq)\n",
      "    59/21    0.000    0.000    0.000    0.000 <ipython-input-5-d85ceb1fe453>:6(__call__)\n",
      "        1    0.000    0.000    0.000    0.000 <string>:1(<module>)\n",
      "        3    0.000    0.000    0.000    0.000 iostream.py:197(schedule)\n",
      "        2    0.000    0.000    0.000    0.000 iostream.py:310(_is_master_process)\n",
      "        2    0.000    0.000    0.000    0.000 iostream.py:323(_schedule_flush)\n",
      "        2    0.000    0.000    0.000    0.000 iostream.py:386(write)\n",
      "        3    0.000    0.000    0.000    0.000 iostream.py:93(_event_pipe)\n",
      "        1    0.000    0.000    0.000    0.000 profile:0(print(fib_seq(20)))\n",
      "        0    0.000             0.000          profile:0(profiler)\n",
      "        3    0.000    0.000    0.000    0.000 socket.py:357(send)\n",
      "        3    0.000    0.000    0.000    0.000 threading.py:1017(_wait_for_tstate_lock)\n",
      "        3    0.000    0.000    0.000    0.000 threading.py:1071(is_alive)\n",
      "        3    0.000    0.000    0.000    0.000 threading.py:513(is_set)\n",
      "\n",
      "\n"
     ]
    }
   ],
   "source": [
    "profile.run('print(fib_seq(20))')"
   ]
  },
  {
   "cell_type": "raw",
   "metadata": {},
   "source": [
    "By remembering the Fibonacci value at each level we can avoid most of the recursion and drop down to 145 calls that only take 0.003 seconds. Also, notice that the ncalls count for fib() shows that it never recurses."
   ]
  },
  {
   "cell_type": "code",
   "execution_count": 7,
   "metadata": {},
   "outputs": [
    {
     "name": "stdout",
     "output_type": "stream",
     "text": [
      "[0, 1, 1, 2, 3, 5, 8, 13, 21, 34, 55, 89, 144, 233, 377, 610, 987, 1597, 2584, 4181, 6765]\n",
      "         122 function calls (102 primitive calls) in 0.000 seconds\n",
      "\n",
      "   Ordered by: standard name\n",
      "\n",
      "   ncalls  tottime  percall  cumtime  percall filename:lineno(function)\n",
      "        3    0.000    0.000    0.000    0.000 :0(acquire)\n",
      "       24    0.000    0.000    0.000    0.000 :0(append)\n",
      "        1    0.000    0.000    0.000    0.000 :0(exec)\n",
      "       20    0.000    0.000    0.000    0.000 :0(extend)\n",
      "        2    0.000    0.000    0.000    0.000 :0(getpid)\n",
      "        2    0.000    0.000    0.000    0.000 :0(isinstance)\n",
      "        1    0.000    0.000    0.000    0.000 :0(print)\n",
      "        1    0.000    0.000    0.000    0.000 :0(setprofile)\n",
      "     21/1    0.000    0.000    0.000    0.000 <ipython-input-5-d85ceb1fe453>:22(fib_seq)\n",
      "       21    0.000    0.000    0.000    0.000 <ipython-input-5-d85ceb1fe453>:6(__call__)\n",
      "        1    0.000    0.000    0.000    0.000 <string>:1(<module>)\n",
      "        3    0.000    0.000    0.000    0.000 iostream.py:197(schedule)\n",
      "        2    0.000    0.000    0.000    0.000 iostream.py:310(_is_master_process)\n",
      "        2    0.000    0.000    0.000    0.000 iostream.py:323(_schedule_flush)\n",
      "        2    0.000    0.000    0.000    0.000 iostream.py:386(write)\n",
      "        3    0.000    0.000    0.000    0.000 iostream.py:93(_event_pipe)\n",
      "        1    0.000    0.000    0.000    0.000 profile:0(print(fib_seq(n)))\n",
      "        0    0.000             0.000          profile:0(profiler)\n",
      "        3    0.000    0.000    0.000    0.000 socket.py:357(send)\n",
      "        3    0.000    0.000    0.000    0.000 threading.py:1017(_wait_for_tstate_lock)\n",
      "        3    0.000    0.000    0.000    0.000 threading.py:1071(is_alive)\n",
      "        3    0.000    0.000    0.000    0.000 threading.py:513(is_set)\n",
      "\n",
      "\n"
     ]
    }
   ],
   "source": [
    "profile.runctx('print(fib_seq(n))', globals(), {'n':20})"
   ]
  },
  {
   "cell_type": "code",
   "execution_count": 8,
   "metadata": {},
   "outputs": [],
   "source": [
    "# dir(profile)"
   ]
  },
  {
   "cell_type": "code",
   "execution_count": null,
   "metadata": {},
   "outputs": [],
   "source": []
  },
  {
   "cell_type": "markdown",
   "metadata": {},
   "source": [
    "<h2> pStats: Saving and Working With Statistics </h2>"
   ]
  },
  {
   "cell_type": "code",
   "execution_count": 9,
   "metadata": {},
   "outputs": [
    {
     "name": "stdout",
     "output_type": "stream",
     "text": [
      "[0, 1, 1, 2, 3, 5, 8, 13, 21, 34, 55, 89, 144, 233, 377, 610, 987, 1597, 2584, 4181, 6765]\n",
      "[0, 1, 1, 2, 3, 5, 8, 13, 21, 34, 55, 89, 144, 233, 377, 610, 987, 1597, 2584, 4181, 6765]\n",
      "[0, 1, 1, 2, 3, 5, 8, 13, 21, 34, 55, 89, 144, 233, 377, 610, 987, 1597, 2584, 4181, 6765]\n",
      "[0, 1, 1, 2, 3, 5, 8, 13, 21, 34, 55, 89, 144, 233, 377, 610, 987, 1597, 2584, 4181, 6765]\n",
      "[0, 1, 1, 2, 3, 5, 8, 13, 21, 34, 55, 89, 144, 233, 377, 610, 987, 1597, 2584, 4181, 6765]\n"
     ]
    }
   ],
   "source": [
    "import pstats\n",
    "\n",
    "for i in range(0, 5):\n",
    "    profile.run('print(fib_seq(20))', 'filename'+str(i))"
   ]
  },
  {
   "cell_type": "code",
   "execution_count": null,
   "metadata": {},
   "outputs": [],
   "source": []
  },
  {
   "cell_type": "code",
   "execution_count": null,
   "metadata": {},
   "outputs": [],
   "source": []
  },
  {
   "cell_type": "code",
   "execution_count": 10,
   "metadata": {},
   "outputs": [
    {
     "data": {
      "text/plain": [
       "[<pstats.Stats at 0x210cbd7e460>,\n",
       " <pstats.Stats at 0x210cbd7e460>,\n",
       " <pstats.Stats at 0x210cbd7e460>,\n",
       " <pstats.Stats at 0x210cbd7e460>,\n",
       " <pstats.Stats at 0x210cbd7e460>]"
      ]
     },
     "execution_count": 10,
     "metadata": {},
     "output_type": "execute_result"
    }
   ],
   "source": [
    "iStats = pstats.Stats()\n",
    "\n",
    "[iStats.add('filename'+str(i)) for i in range(0, 5)]"
   ]
  },
  {
   "cell_type": "code",
   "execution_count": 11,
   "metadata": {},
   "outputs": [
    {
     "data": {
      "text/plain": [
       "<pstats.Stats at 0x210cbd7e460>"
      ]
     },
     "execution_count": 11,
     "metadata": {},
     "output_type": "execute_result"
    }
   ],
   "source": [
    "iStats.strip_dirs()"
   ]
  },
  {
   "cell_type": "code",
   "execution_count": 12,
   "metadata": {},
   "outputs": [
    {
     "data": {
      "text/plain": [
       "<pstats.Stats at 0x210cbd7e460>"
      ]
     },
     "execution_count": 12,
     "metadata": {},
     "output_type": "execute_result"
    }
   ],
   "source": [
    "iStats.sort_stats('ncalls')"
   ]
  },
  {
   "cell_type": "code",
   "execution_count": 13,
   "metadata": {},
   "outputs": [
    {
     "name": "stdout",
     "output_type": "stream",
     "text": [
      "Sat Aug 29 21:15:05 2020    filename0\n",
      "Sat Aug 29 21:15:05 2020    filename1\n",
      "Sat Aug 29 21:15:05 2020    filename2\n",
      "Sat Aug 29 21:15:05 2020    filename3\n",
      "Sat Aug 29 21:15:05 2020    filename4\n",
      "\n",
      "         578 function calls (478 primitive calls) in 0.016 seconds\n",
      "\n",
      "   Ordered by: call count\n",
      "\n",
      "   ncalls  tottime  percall  cumtime  percall filename:lineno(function)\n",
      "      116    0.000    0.000    0.000    0.000 :0(append)\n",
      "    105/5    0.016    0.000    0.016    0.003 <ipython-input-5-d85ceb1fe453>:22(fib_seq)\n",
      "      105    0.000    0.000    0.000    0.000 <ipython-input-5-d85ceb1fe453>:6(__call__)\n",
      "      100    0.000    0.000    0.000    0.000 :0(extend)\n",
      "       11    0.000    0.000    0.000    0.000 iostream.py:197(schedule)\n",
      "       11    0.000    0.000    0.000    0.000 threading.py:1071(is_alive)\n",
      "       11    0.000    0.000    0.000    0.000 threading.py:513(is_set)\n",
      "       11    0.000    0.000    0.000    0.000 threading.py:1017(_wait_for_tstate_lock)\n",
      "       11    0.000    0.000    0.000    0.000 :0(acquire)\n",
      "       11    0.000    0.000    0.000    0.000 iostream.py:93(_event_pipe)\n",
      "       11    0.000    0.000    0.000    0.000 socket.py:357(send)\n",
      "       10    0.000    0.000    0.000    0.000 iostream.py:386(write)\n",
      "       10    0.000    0.000    0.000    0.000 :0(isinstance)\n",
      "       10    0.000    0.000    0.000    0.000 iostream.py:310(_is_master_process)\n",
      "       10    0.000    0.000    0.000    0.000 :0(getpid)\n",
      "       10    0.000    0.000    0.000    0.000 iostream.py:323(_schedule_flush)\n",
      "        5    0.000    0.000    0.016    0.003 profile:0(print(fib_seq(20)))\n",
      "        5    0.000    0.000    0.016    0.003 :0(exec)\n",
      "        5    0.000    0.000    0.016    0.003 <string>:1(<module>)\n",
      "        5    0.000    0.000    0.000    0.000 :0(print)\n",
      "        5    0.000    0.000    0.000    0.000 :0(setprofile)\n",
      "        0    0.000             0.000          profile:0(profiler)\n",
      "\n",
      "\n"
     ]
    },
    {
     "data": {
      "text/plain": [
       "<pstats.Stats at 0x210cbd7e460>"
      ]
     },
     "execution_count": 13,
     "metadata": {},
     "output_type": "execute_result"
    }
   ],
   "source": [
    "iStats.print_stats()"
   ]
  },
  {
   "cell_type": "code",
   "execution_count": 14,
   "metadata": {},
   "outputs": [
    {
     "name": "stdout",
     "output_type": "stream",
     "text": [
      "   Ordered by: call count\n",
      "   List reduced from 22 to 2 due to restriction <'\\\\(fib'>\n",
      "\n",
      "Function                                    was called by...\n",
      "<ipython-input-5-d85ceb1fe453>:22(fib_seq)  <- <ipython-input-5-d85ceb1fe453>:22(fib_seq)(100)    0.016\n",
      "                                               <string>:1(<module>)(5)    0.016\n",
      "profile:0(print(fib_seq(20)))               <- profile:0(profiler)(5)    0.000\n",
      "\n",
      "\n"
     ]
    },
    {
     "data": {
      "text/plain": [
       "<pstats.Stats at 0x210cbd7e460>"
      ]
     },
     "execution_count": 14,
     "metadata": {},
     "output_type": "execute_result"
    }
   ],
   "source": [
    "iStats.print_callers('\\(fib')"
   ]
  },
  {
   "cell_type": "code",
   "execution_count": 15,
   "metadata": {},
   "outputs": [
    {
     "name": "stdout",
     "output_type": "stream",
     "text": [
      "   Ordered by: call count\n",
      "   List reduced from 22 to 2 due to restriction <'\\\\(fib_seq'>\n",
      "\n",
      "Function                                    was called by...\n",
      "<ipython-input-5-d85ceb1fe453>:22(fib_seq)  <- <ipython-input-5-d85ceb1fe453>:22(fib_seq)(100)    0.016\n",
      "                                               <string>:1(<module>)(5)    0.016\n",
      "profile:0(print(fib_seq(20)))               <- profile:0(profiler)(5)    0.000\n",
      "\n",
      "\n"
     ]
    },
    {
     "data": {
      "text/plain": [
       "<pstats.Stats at 0x210cbd7e460>"
      ]
     },
     "execution_count": 15,
     "metadata": {},
     "output_type": "execute_result"
    }
   ],
   "source": [
    "iStats.print_callers('\\(fib_seq')"
   ]
  },
  {
   "cell_type": "code",
   "execution_count": null,
   "metadata": {},
   "outputs": [],
   "source": []
  }
 ],
 "metadata": {
  "kernelspec": {
   "display_name": "Python 3",
   "language": "python",
   "name": "python3"
  },
  "language_info": {
   "codemirror_mode": {
    "name": "ipython",
    "version": 3
   },
   "file_extension": ".py",
   "mimetype": "text/x-python",
   "name": "python",
   "nbconvert_exporter": "python",
   "pygments_lexer": "ipython3",
   "version": "3.8.5"
  }
 },
 "nbformat": 4,
 "nbformat_minor": 4
}
